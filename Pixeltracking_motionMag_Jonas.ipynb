{
 "cells": [
  {
   "cell_type": "code",
   "execution_count": null,
   "id": "af80e0fc",
   "metadata": {},
   "outputs": [],
   "source": [
    "# !pip install ffmpeg\n",
    "# !pip install opencv-python\n",
    "# !pip install opencv-contrib-python --user\n",
    "# !pip install plotly tqdm\n",
    "# !pip install kaleido"
   ]
  },
  {
   "cell_type": "code",
   "execution_count": null,
   "id": "370298a6",
   "metadata": {},
   "outputs": [],
   "source": [
    "import numpy as np\n",
    "import cv2\n",
    "import pandas as pd\n",
    "import plotly.express as px\n",
    "import plotly.graph_objects as go\n",
    "import plotly.express as px\n",
    "import scipy.stats as stats\n",
    "\n",
    "from tqdm.notebook import tqdm\n",
    "from tqdm import tqdm"
   ]
  },
  {
   "cell_type": "code",
   "execution_count": null,
   "id": "5fe2c26b",
   "metadata": {},
   "outputs": [],
   "source": [
    "# Set the parameters of the video you want to analyse\n",
    "fps: int = 500\n",
    "freq: int = 303\n",
    "amplified: bool = True"
   ]
  },
  {
   "cell_type": "code",
   "execution_count": null,
   "id": "7093f90a",
   "metadata": {},
   "outputs": [],
   "source": [
    "# describe paths to the regular and amplified video respectively\n",
    "if amplified == False:\n",
    "    cap = cv2.VideoCapture(f'04_juni_set/bewerkt/V3/V3_{freq}hz_{fps}fps_Part1.avi')\n",
    "elif amplified == True: \n",
    "    cap = cv2.VideoCapture(f'04_juni_set/amplified/phase_based//V3/V3_{freq}hz_{fps}fps_amplified.avi')"
   ]
  },
  {
   "cell_type": "code",
   "execution_count": null,
   "id": "32d91dde",
   "metadata": {},
   "outputs": [],
   "source": [
    "# Function to plot with dynamic x-axis\n",
    "def plot_displacement(df, point_id, x_axis='time'):\n",
    "    filtered_df = df[df['id'] == point_id]\n",
    "    fig = px.line(filtered_df, x=x_axis, y=['dy'],\n",
    "                  labels={'value': 'Displacement', 'variable': 'Axis'},\n",
    "                  title=f'Movement of Point {int(point_id)} Over Time')\n",
    "    fig.update_layout(xaxis_title=x_axis.capitalize(), yaxis_title='Displacement (pixels)', showlegend=True)\n",
    "    fig.show()"
   ]
  },
  {
   "cell_type": "code",
   "execution_count": null,
   "id": "c5433b09",
   "metadata": {
    "scrolled": false
   },
   "outputs": [],
   "source": [
    "# Set up parameters for ShiTomasi corner detection\n",
    "feature_params = dict(maxCorners=1, qualityLevel=0.3, minDistance=7, blockSize=7)\n",
    "\n",
    "# Set up parameters for Lucas-Kanade optical flow\n",
    "lk_params = dict(winSize=(15, 15), maxLevel=2, criteria=(cv2.TERM_CRITERIA_EPS | cv2.TERM_CRITERIA_COUNT, 10, 0.03))\n",
    "\n",
    "# Read the first frame\n",
    "ret, old_frame = cap.read()\n",
    "old_gray = cv2.cvtColor(old_frame, cv2.COLOR_BGR2GRAY)\n",
    "\n",
    "# Select ROI for tracking\n",
    "bbox = cv2.selectROI(old_frame, False)\n",
    "cv2.destroyAllWindows()\n",
    "x, y, w, h = bbox\n",
    "\n",
    "# if you want to manually set the ROI, comment the lines above and paste the ROI below\n",
    "# x, y, w, h = 0, 0, 0, 0\n",
    "\n",
    "roi_mask = np.zeros_like(old_gray)\n",
    "roi_mask[y:y+h, x:x+w] = 255\n",
    "\n",
    "# Detect initial points in ROI\n",
    "p0 = cv2.goodFeaturesToTrack(old_gray, mask=roi_mask, **feature_params)\n",
    "\n",
    "# Check if any points were detected\n",
    "if p0 is None:\n",
    "    print(\"Unable to determine tracking features, please adjust bounding box.\")\n",
    "    cap.release()  # Release the video capture object\n",
    "    sys.exit()  # Exit the program\n",
    "\n",
    "# List to store the displacement of points\n",
    "displacements = []\n",
    "\n",
    "# Process video\n",
    "iteration = 0\n",
    "with tqdm(total=int(cap.get(cv2.CAP_PROP_FRAME_COUNT)), desc=\"Tracking\") as pbar:\n",
    "    while True:\n",
    "        ret, frame = cap.read()\n",
    "        if not ret:\n",
    "            break\n",
    "        frame_gray = cv2.cvtColor(frame, cv2.COLOR_BGR2GRAY)\n",
    "\n",
    "        # Calculate optical flow\n",
    "        p1, st, err = cv2.calcOpticalFlowPyrLK(old_gray, frame_gray, p0, None, **lk_params)\n",
    "\n",
    "        # Ensure optical flow was successful\n",
    "        if p1 is not None and len(p1) > 0:\n",
    "            # Select good points\n",
    "            good_new = p1[st == 1]\n",
    "            good_old = p0[st == 1]\n",
    "\n",
    "            # Store points' displacements\n",
    "            for i, (new, old) in enumerate(zip(good_new, good_old)):\n",
    "                a, b = new.ravel()\n",
    "                c, d = old.ravel()\n",
    "                displacements.append({'iteration': iteration, 'time': pbar.n / fps, 'id': i, 'x': a, 'y': b, 'dx': a - c, 'dy': b - d})\n",
    "\n",
    "            # Update the previous frame and points\n",
    "            old_gray = frame_gray.copy()\n",
    "            p0 = good_new.reshape(-1, 1, 2)\n",
    "        else:\n",
    "            print(\"Unable to determine tracking features, please adjust bounding box.\")\n",
    "            break  # Break out of the loop if tracking fails\n",
    "\n",
    "        pbar.update(1)\n",
    "        iteration += 1\n",
    "\n",
    "cap.release()\n",
    "\n",
    "# Convert the list of displacements to a DataFrame\n",
    "df_spoke = pd.DataFrame(displacements)\n",
    "\n",
    "# Plot the displacement in the ROI\n",
    "for point_id in df_spoke['id'].unique():\n",
    "    plot_displacement(df_spoke, point_id, x_axis='iteration')  # Change x_axis to 'iteration' to plot against iterations"
   ]
  },
  {
   "cell_type": "code",
   "execution_count": null,
   "id": "45fad240",
   "metadata": {},
   "outputs": [],
   "source": [
    "# You can copy paste the output of this cell to not lose the ROI \n",
    "print(x, y, w, h)"
   ]
  },
  {
   "cell_type": "code",
   "execution_count": null,
   "id": "dcf7f52d",
   "metadata": {},
   "outputs": [],
   "source": [
    "start_iteration = df_spoke[\"iteration\"].iloc[0] # start iteration\n",
    "end_iteration = df_spoke[\"iteration\"].iloc[-1]  # end iteration\n",
    "phase = 'spoke'       \n",
    "\n",
    "# Filter the DataFrame to get only the data between the specified iterations\n",
    "df_spoke = df_spoke.iloc[start_iteration:end_iteration+1].copy()\n",
    "\n",
    "# Add a new column 'phase' with the specified phase value using .loc\n",
    "df_spoke.loc[:, 'phase'] = phase\n",
    "\n",
    "#calculate z-score of 'dy' column\n",
    "df_spoke['z_score'] = stats.zscore(df_spoke[\"dy\"])\n",
    "df_spoke['z_score'] = np.abs(df_spoke['z_score'])  # Use absolute value \n",
    "\n",
    "#determine viable displacement for subbing outliers\n",
    "replacement_upper = np.max(df_spoke.loc[df_spoke['z_score'] <= 2].dy)\n",
    "replacement_lower = np.min(df_spoke.loc[df_spoke['z_score'] <= 2].dy)\n",
    "\n",
    "# Change outlier displacements regular displacements\n",
    "df_spoke.loc[(df_spoke['z_score'] > 2) & (df_spoke['dy'] >= 0), 'dy'] = replacement_upper\n",
    "df_spoke.loc[(df_spoke['z_score'] > 2) & (df_spoke['dy'] < 0), 'dy'] = replacement_lower\n",
    "\n",
    "# Define the output filename based on the 'phase' variable and the iteration range\n",
    "if amplified == False:\n",
    "    output_filename = f\"df_{freq}hz_{fps}fps_{phase}_{start_iteration}_{end_iteration}.csv\"\n",
    "elif amplified == True:\n",
    "    output_filename = f\"df_{freq}hz_{fps}fps_{phase}_{start_iteration}_{end_iteration}_amplified.csv\"\n",
    "\n",
    "# Save the filtered data to a new CSV file, dropping the 'id' column\n",
    "df_spoke.to_csv(output_filename, index=False)\n",
    "\n",
    "# Read the newly created CSV file and check its shape\n",
    "df_spoke"
   ]
  },
  {
   "cell_type": "code",
   "execution_count": null,
   "id": "773fd9ef",
   "metadata": {},
   "outputs": [],
   "source": [
    "# Plot the capped displacements in the ROI\n",
    "for point_id in df_spoke['id'].unique():\n",
    "    plot_displacement(df_spoke, point_id, x_axis='iteration')"
   ]
  },
  {
   "cell_type": "code",
   "execution_count": null,
   "id": "f95d1004",
   "metadata": {},
   "outputs": [],
   "source": [
    "# List of file names\n",
    "file_names = [output_filename]  # Add more file names as needed\n",
    "\n",
    "# Load and concatenate the datasets\n",
    "df_list = [pd.read_csv(file_name) for file_name in file_names]\n",
    "df_combined = pd.concat(df_list)\n",
    "\n",
    "# Sort the combined dataset by 'iteration'\n",
    "df_combined.sort_values(by='iteration', inplace=True)\n",
    "\n",
    "# Reset the index of the combined dataset\n",
    "df_combined.reset_index(drop=True, inplace=True)\n",
    "\n",
    "# Save the combined dataset\n",
    "df_combined.to_csv('__', index=False)\n",
    "\n",
    "# Print the shape of the combined dataset\n",
    "df_combined"
   ]
  },
  {
   "cell_type": "code",
   "execution_count": null,
   "id": "b9f40451",
   "metadata": {},
   "outputs": [],
   "source": [
    "# Function to perform FFT and return the positive frequency part of the spectrum\n",
    "def fft_positive_frequencies(signal, fps):\n",
    "    # Zero-pad het signaal tot de gewenste lengte\n",
    "    signal = np.pad(signal, (0, len(signal)*9), 'constant') # enlarge the signal x10\n",
    "    fft_vals = np.fft.fft(signal)\n",
    "    fft_freq = np.fft.fftfreq(len(signal), d=1/(fps))\n",
    "    # Take only the positive part of the spectrum\n",
    "    fft_vals_positive = fft_vals[:len(signal)//2]\n",
    "    fft_freq_positive = fft_freq[:len(signal)//2]\n",
    "    return fft_freq_positive, np.abs(fft_vals_positive)"
   ]
  },
  {
   "cell_type": "code",
   "execution_count": null,
   "id": "69a610a3",
   "metadata": {
    "scrolled": false
   },
   "outputs": [],
   "source": [
    "spoke_data = df_combined[df_combined['phase']=='spoke']\n",
    "\n",
    "# Perform FFT for 'dy' for 'spoke'\n",
    "freqs_spoke, fft_spoke_dy = fft_positive_frequencies(spoke_data['dy'], fps)\n",
    "\n",
    "# Create a figure with trace for spoke dy displacement\n",
    "fig = go.Figure()\n",
    "\n",
    "fig.add_trace(go.Scatter(\n",
    "    x=freqs_spoke,\n",
    "    y=fft_spoke_dy,\n",
    "    mode='lines',\n",
    "    name='Spoke dy Displacement',\n",
    "    line=dict(color='blue')\n",
    "))\n",
    "\n",
    "\n",
    "# Update the layout of the plot\n",
    "fig.update_layout(\n",
    "    title='Frequency Spectrum for Spoke Phases',\n",
    "    xaxis_title='Frequency (Hz)',\n",
    "    yaxis_title='Amplitude',\n",
    "    showlegend=True\n",
    ")\n",
    "\n",
    "# Display the plot\n",
    "fig.show()\n",
    "if amplified == False:\n",
    "    fig.write_image(f\"frequency_spoke_{freq}hz_{fps}fps.png\")\n",
    "elif amplified == True:\n",
    "    fig.write_image(f\"frequency_spoke_{freq}hz_{fps}fps_amplified.png\")"
   ]
  }
 ],
 "metadata": {
  "kernelspec": {
   "display_name": "Python 3 (ipykernel)",
   "language": "python",
   "name": "python3"
  },
  "language_info": {
   "codemirror_mode": {
    "name": "ipython",
    "version": 3
   },
   "file_extension": ".py",
   "mimetype": "text/x-python",
   "name": "python",
   "nbconvert_exporter": "python",
   "pygments_lexer": "ipython3",
   "version": "3.10.12"
  },
  "vscode": {
   "interpreter": {
    "hash": "916dbcbb3f70747c44a77c7bcd40155683ae19c65e1c03b4aa3499c5328201f1"
   }
  }
 },
 "nbformat": 4,
 "nbformat_minor": 5
}
